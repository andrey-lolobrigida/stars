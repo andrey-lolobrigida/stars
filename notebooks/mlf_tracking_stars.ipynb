{
 "cells": [
  {
   "cell_type": "markdown",
   "id": "b30a59c6-8b44-46a6-90a6-f6e33500b43b",
   "metadata": {},
   "source": [
    "# Models Logging and Tracking"
   ]
  },
  {
   "cell_type": "markdown",
   "id": "77876e3f-b2e3-4d74-95ac-c88923f47aeb",
   "metadata": {},
   "source": [
    "In this notebook, we will log and track the hyperparameters and scores of multiple model runs with the help of MLFlow."
   ]
  },
  {
   "cell_type": "markdown",
   "id": "d4459bdd-9231-4ea6-b0e2-87ad8d09d705",
   "metadata": {},
   "source": [
    "# 0 Setup "
   ]
  },
  {
   "cell_type": "markdown",
   "id": "62ba38db-f2a4-4b87-87af-1bb3d55b798f",
   "metadata": {},
   "source": [
    "## 0.1 Imports"
   ]
  },
  {
   "cell_type": "code",
   "execution_count": 16,
   "id": "1999ee92-3790-45e2-a5de-b1aa321191d2",
   "metadata": {},
   "outputs": [],
   "source": [
    "import numpy as np\n",
    "import pandas as pd\n",
    "\n",
    "# Scikit Learning libraries\n",
    "from sklearn.model_selection import train_test_split\n",
    "from sklearn.metrics import classification_report\n",
    "from sklearn import tree\n",
    "from sklearn.ensemble import RandomForestClassifier\n",
    "from sklearn.ensemble import GradientBoostingClassifier\n",
    "\n",
    "# MLFlow\n",
    "import mlflow\n",
    "from mlflow.models import infer_signature"
   ]
  },
  {
   "cell_type": "markdown",
   "id": "e170de07-26bc-4755-8f9a-6278f388876b",
   "metadata": {},
   "source": [
    "## 0.2 Server (Locally Hosted)"
   ]
  },
  {
   "cell_type": "code",
   "execution_count": 2,
   "id": "4684418b-d5ae-4594-a631-d63f9081e2ed",
   "metadata": {},
   "outputs": [],
   "source": [
    "mlflow.set_tracking_uri(uri=\"http://127.0.0.1:8080\")"
   ]
  },
  {
   "cell_type": "markdown",
   "id": "ab8a9b8d-e34d-404a-8b88-dbea12b445d7",
   "metadata": {},
   "source": [
    "## 0.3 Path Definition"
   ]
  },
  {
   "cell_type": "code",
   "execution_count": 5,
   "id": "86881b4a-169d-44ae-a4fb-bc08ada1d20e",
   "metadata": {},
   "outputs": [],
   "source": [
    "HOME_PATH = '~/Documents/Data Science Projects/stars'\n",
    "INTERIM_DATA_PATH = '/data/interim/'"
   ]
  },
  {
   "cell_type": "markdown",
   "id": "f190e8e6-e81f-4119-9b41-e0139e3db882",
   "metadata": {},
   "source": [
    "## 0.4 Loading Data"
   ]
  },
  {
   "cell_type": "markdown",
   "id": "827c0d4b-bec5-4afe-b737-6c7ee3714da0",
   "metadata": {},
   "source": [
    "The 'stars' notebook must be run before loading the data here."
   ]
  },
  {
   "cell_type": "code",
   "execution_count": 14,
   "id": "76841684-20fc-4003-a151-2331e18d65e0",
   "metadata": {},
   "outputs": [],
   "source": [
    "stars_final_df = pd.read_csv(HOME_PATH + INTERIM_DATA_PATH + 'selected_features_df_final.csv', index_col = 0)"
   ]
  },
  {
   "cell_type": "markdown",
   "id": "f7791d31-8d25-4344-b841-f445a9528be4",
   "metadata": {},
   "source": [
    "# 1 Models"
   ]
  },
  {
   "cell_type": "markdown",
   "id": "3a452e31-79ca-47d8-86d9-1bbf3038585a",
   "metadata": {},
   "source": [
    "In this section, we setup the models that we'll track later with MLFlow."
   ]
  },
  {
   "cell_type": "code",
   "execution_count": 18,
   "id": "93ef62e8-5951-4844-b15a-c271cea02e17",
   "metadata": {},
   "outputs": [],
   "source": [
    "X = selected_features_df_final.drop('Star type', axis = 1)\n",
    "y = selected_features_df_final['Star type']"
   ]
  },
  {
   "cell_type": "markdown",
   "id": "04a363bb-f5fe-4664-a5e1-d370ccd56c29",
   "metadata": {},
   "source": [
    "## 1.1 CART"
   ]
  },
  {
   "cell_type": "code",
   "execution_count": 17,
   "id": "d19c84ad-e096-4d74-b6b4-0ddb43c89bf8",
   "metadata": {},
   "outputs": [
    {
     "ename": "NameError",
     "evalue": "name 'X' is not defined",
     "output_type": "error",
     "traceback": [
      "\u001b[0;31m---------------------------------------------------------------------------\u001b[0m",
      "\u001b[0;31mNameError\u001b[0m                                 Traceback (most recent call last)",
      "Cell \u001b[0;32mIn[17], line 2\u001b[0m\n\u001b[1;32m      1\u001b[0m \u001b[38;5;66;03m# setting the training split\u001b[39;00m\n\u001b[0;32m----> 2\u001b[0m X_train, X_test, y_train, y_test \u001b[38;5;241m=\u001b[39m train_test_split(\u001b[43mX\u001b[49m, y, test_size \u001b[38;5;241m=\u001b[39m \u001b[38;5;241m0.25\u001b[39m, random_state \u001b[38;5;241m=\u001b[39m \u001b[38;5;241m0\u001b[39m)\n\u001b[1;32m      4\u001b[0m \u001b[38;5;66;03m# setting up the model. we use 4 maximum depth, with no minimum leaf size\u001b[39;00m\n\u001b[1;32m      5\u001b[0m cart_model \u001b[38;5;241m=\u001b[39m tree\u001b[38;5;241m.\u001b[39mDecisionTreeClassifier(max_depth \u001b[38;5;241m=\u001b[39m \u001b[38;5;241m4\u001b[39m)\n",
      "\u001b[0;31mNameError\u001b[0m: name 'X' is not defined"
     ]
    }
   ],
   "source": [
    "# setting the training split\n",
    "X_train, X_test, y_train, y_test = train_test_split(X, y, test_size = 0.25, random_state = 0)\n",
    "\n",
    "# setting up the model. we use 4 maximum depth, with no minimum leaf size\n",
    "cart_model = tree.DecisionTreeClassifier(max_depth = 4)\n",
    "\n",
    "# fitting the model to the training data\n",
    "cart_classifier = cart_model.fit(X_train, y_train)\n",
    "\n",
    "# getting model predictions over the test set\n",
    "cart_pred_labels_te = cart_model.predict(X_test)\n",
    "\n",
    "# model perfomance report\n",
    "cart_report = classification_report(y_test, cart_pred_labels_te)"
   ]
  },
  {
   "cell_type": "code",
   "execution_count": null,
   "id": "718ac41f-7d58-4bc8-9c06-45ce1b45bcd1",
   "metadata": {},
   "outputs": [],
   "source": []
  }
 ],
 "metadata": {
  "kernelspec": {
   "display_name": "My Env (with Poetry)",
   "language": "python",
   "name": "my-env-with-poetry"
  },
  "language_info": {
   "codemirror_mode": {
    "name": "ipython",
    "version": 3
   },
   "file_extension": ".py",
   "mimetype": "text/x-python",
   "name": "python",
   "nbconvert_exporter": "python",
   "pygments_lexer": "ipython3",
   "version": "3.10.12"
  }
 },
 "nbformat": 4,
 "nbformat_minor": 5
}
