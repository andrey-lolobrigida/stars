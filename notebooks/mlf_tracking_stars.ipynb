{
 "cells": [
  {
   "cell_type": "markdown",
   "id": "b30a59c6-8b44-46a6-90a6-f6e33500b43b",
   "metadata": {},
   "source": [
    "# Models Logging and Tracking"
   ]
  },
  {
   "cell_type": "markdown",
   "id": "77876e3f-b2e3-4d74-95ac-c88923f47aeb",
   "metadata": {},
   "source": [
    "In this notebook, we will log and track the hyperparameters and scores of multiple model runs with the help of MLFlow."
   ]
  },
  {
   "cell_type": "markdown",
   "id": "d4459bdd-9231-4ea6-b0e2-87ad8d09d705",
   "metadata": {},
   "source": [
    "# 0 Setup "
   ]
  },
  {
   "cell_type": "markdown",
   "id": "62ba38db-f2a4-4b87-87af-1bb3d55b798f",
   "metadata": {},
   "source": [
    "## 0.1 Imports"
   ]
  },
  {
   "cell_type": "code",
   "execution_count": 2,
   "id": "1999ee92-3790-45e2-a5de-b1aa321191d2",
   "metadata": {},
   "outputs": [],
   "source": [
    "import numpy as np\n",
    "import pandas as pd\n",
    "\n",
    "# Scikit Learning libraries\n",
    "from sklearn.model_selection import train_test_split\n",
    "from sklearn.metrics import accuracy_score, precision_score, recall_score, f1_score\n",
    "from sklearn import tree\n",
    "from sklearn.ensemble import RandomForestClassifier\n",
    "from sklearn.ensemble import GradientBoostingClassifier\n",
    "\n",
    "# MLFlow\n",
    "import mlflow\n",
    "from mlflow.models import infer_signature"
   ]
  },
  {
   "cell_type": "markdown",
   "id": "e170de07-26bc-4755-8f9a-6278f388876b",
   "metadata": {},
   "source": [
    "## 0.2 Server (Locally Hosted)"
   ]
  },
  {
   "cell_type": "code",
   "execution_count": 3,
   "id": "4684418b-d5ae-4594-a631-d63f9081e2ed",
   "metadata": {},
   "outputs": [],
   "source": [
    "mlflow.set_tracking_uri(uri=\"http://127.0.0.1:8080\")"
   ]
  },
  {
   "cell_type": "markdown",
   "id": "ab8a9b8d-e34d-404a-8b88-dbea12b445d7",
   "metadata": {},
   "source": [
    "## 0.3 Path Definition"
   ]
  },
  {
   "cell_type": "code",
   "execution_count": 4,
   "id": "86881b4a-169d-44ae-a4fb-bc08ada1d20e",
   "metadata": {},
   "outputs": [],
   "source": [
    "HOME_PATH = '~/Documents/Data Science Projects/stars'\n",
    "INTERIM_DATA_PATH = '/data/interim/'"
   ]
  },
  {
   "cell_type": "markdown",
   "id": "f190e8e6-e81f-4119-9b41-e0139e3db882",
   "metadata": {},
   "source": [
    "## 0.4 Loading Data"
   ]
  },
  {
   "cell_type": "markdown",
   "id": "827c0d4b-bec5-4afe-b737-6c7ee3714da0",
   "metadata": {},
   "source": [
    "The 'stars' notebook must be run before loading the data here."
   ]
  },
  {
   "cell_type": "code",
   "execution_count": 5,
   "id": "76841684-20fc-4003-a151-2331e18d65e0",
   "metadata": {},
   "outputs": [],
   "source": [
    "stars_final_df = pd.read_csv(HOME_PATH + INTERIM_DATA_PATH + 'selected_features_df_final.csv', index_col = 0)"
   ]
  },
  {
   "cell_type": "markdown",
   "id": "f7791d31-8d25-4344-b841-f445a9528be4",
   "metadata": {},
   "source": [
    "# 1 Models"
   ]
  },
  {
   "cell_type": "markdown",
   "id": "3a452e31-79ca-47d8-86d9-1bbf3038585a",
   "metadata": {},
   "source": [
    "In this section, we setup the models that we'll track later with MLFlow."
   ]
  },
  {
   "cell_type": "code",
   "execution_count": 6,
   "id": "93ef62e8-5951-4844-b15a-c271cea02e17",
   "metadata": {},
   "outputs": [],
   "source": [
    "X = stars_final_df .drop('Star type', axis = 1)\n",
    "y = stars_final_df ['Star type']"
   ]
  },
  {
   "cell_type": "markdown",
   "id": "04a363bb-f5fe-4664-a5e1-d370ccd56c29",
   "metadata": {},
   "source": [
    "## 1.1 CART"
   ]
  },
  {
   "cell_type": "code",
   "execution_count": 7,
   "id": "d19c84ad-e096-4d74-b6b4-0ddb43c89bf8",
   "metadata": {},
   "outputs": [],
   "source": [
    "# setting the training split\n",
    "X_train, X_test, y_train, y_test = train_test_split(X, y, test_size = 0.25, random_state = 0)\n",
    "\n",
    "# setting up the model. we use 4 maximum depth, with no minimum leaf size\n",
    "cart_params = {'max_depth': 4}\n",
    "cart_model = tree.DecisionTreeClassifier(**cart_params)\n",
    "\n",
    "# fitting the model to the training data\n",
    "cart_classifier = cart_model.fit(X_train, y_train)\n",
    "\n",
    "# getting model predictions over the test set\n",
    "cart_pred_labels_te = cart_model.predict(X_test)\n",
    "\n",
    "# model perfomance report\n",
    "cart_accuracy = accuracy_score(y_test, cart_pred_labels_te)"
   ]
  },
  {
   "cell_type": "markdown",
   "id": "0cce1702-87f1-4606-af32-29b45a3d23eb",
   "metadata": {},
   "source": [
    "# 2 Model Logging and Tracking"
   ]
  },
  {
   "cell_type": "markdown",
   "id": "da251381-59ad-43ac-a037-c18ded242835",
   "metadata": {},
   "source": [
    "## 2.1 CART"
   ]
  },
  {
   "cell_type": "code",
   "execution_count": 11,
   "id": "6f8ec767-f37a-463d-a3b5-37a43de24678",
   "metadata": {},
   "outputs": [
    {
     "name": "stderr",
     "output_type": "stream",
     "text": [
      "Registered model 'tracking-cart' already exists. Creating a new version of this model...\n",
      "2024/02/06 11:52:58 INFO mlflow.store.model_registry.abstract_store: Waiting up to 300 seconds for model version to finish creation. Model name: tracking-cart, version 2\n",
      "Created version '2' of model 'tracking-cart'.\n"
     ]
    }
   ],
   "source": [
    "# Create a new MLflow Experiment\n",
    "mlflow.set_experiment(\"CART Experiment\")\n",
    "\n",
    "# Start an MLflow run\n",
    "with mlflow.start_run():\n",
    "    # Log the hyperparameters\n",
    "    mlflow.log_params(cart_params)\n",
    "\n",
    "    # Log the loss metric\n",
    "    mlflow.log_metric(\"accuracy\", cart_accuracy)\n",
    "\n",
    "    # Set a tag that we can use to remind ourselves what this run was for\n",
    "    mlflow.set_tag(\"Training Info\", \"Stars - CART Model\")\n",
    "\n",
    "    # Infer the model signature\n",
    "    signature = infer_signature(X_train, cart_model.predict(X_train))\n",
    "\n",
    "    # Log the model\n",
    "    cart_model_info = mlflow.sklearn.log_model(\n",
    "        sk_model=cart_model,\n",
    "        artifact_path=\"stars_cart_model\",\n",
    "        signature=signature,\n",
    "        input_example=X_train,\n",
    "        registered_model_name=\"tracking-cart\",\n",
    "    )"
   ]
  },
  {
   "cell_type": "code",
   "execution_count": 14,
   "id": "ad0b4411-f981-49ff-933d-bfd5469ffce5",
   "metadata": {},
   "outputs": [
    {
     "name": "stderr",
     "output_type": "stream",
     "text": [
      "Downloading artifacts: 100%|█████████████████████| 6/6 [00:00<00:00, 246.37it/s]\n"
     ]
    },
    {
     "data": {
      "text/html": [
       "<div>\n",
       "<style scoped>\n",
       "    .dataframe tbody tr th:only-of-type {\n",
       "        vertical-align: middle;\n",
       "    }\n",
       "\n",
       "    .dataframe tbody tr th {\n",
       "        vertical-align: top;\n",
       "    }\n",
       "\n",
       "    .dataframe thead th {\n",
       "        text-align: right;\n",
       "    }\n",
       "</style>\n",
       "<table border=\"1\" class=\"dataframe\">\n",
       "  <thead>\n",
       "    <tr style=\"text-align: right;\">\n",
       "      <th></th>\n",
       "      <th>Temperature (K)</th>\n",
       "      <th>Luminosity(L/Lo)</th>\n",
       "      <th>Radius(R/Ro)</th>\n",
       "      <th>Absolute magnitude(Mv)</th>\n",
       "      <th>Star color encoded</th>\n",
       "      <th>actual_class</th>\n",
       "      <th>predicted_class</th>\n",
       "    </tr>\n",
       "  </thead>\n",
       "  <tbody>\n",
       "    <tr>\n",
       "      <th>109</th>\n",
       "      <td>33421</td>\n",
       "      <td>352000.0000</td>\n",
       "      <td>67.000</td>\n",
       "      <td>-5.790</td>\n",
       "      <td>0.0</td>\n",
       "      <td>4</td>\n",
       "      <td>3</td>\n",
       "    </tr>\n",
       "    <tr>\n",
       "      <th>71</th>\n",
       "      <td>3607</td>\n",
       "      <td>0.0220</td>\n",
       "      <td>0.380</td>\n",
       "      <td>10.120</td>\n",
       "      <td>5.0</td>\n",
       "      <td>1</td>\n",
       "      <td>1</td>\n",
       "    </tr>\n",
       "    <tr>\n",
       "      <th>37</th>\n",
       "      <td>6380</td>\n",
       "      <td>1.3500</td>\n",
       "      <td>0.980</td>\n",
       "      <td>2.930</td>\n",
       "      <td>9.0</td>\n",
       "      <td>3</td>\n",
       "      <td>3</td>\n",
       "    </tr>\n",
       "    <tr>\n",
       "      <th>74</th>\n",
       "      <td>3550</td>\n",
       "      <td>0.0040</td>\n",
       "      <td>0.291</td>\n",
       "      <td>10.890</td>\n",
       "      <td>5.0</td>\n",
       "      <td>1</td>\n",
       "      <td>1</td>\n",
       "    </tr>\n",
       "    <tr>\n",
       "      <th>108</th>\n",
       "      <td>24345</td>\n",
       "      <td>142000.0000</td>\n",
       "      <td>57.000</td>\n",
       "      <td>-6.240</td>\n",
       "      <td>0.0</td>\n",
       "      <td>4</td>\n",
       "      <td>3</td>\n",
       "    </tr>\n",
       "    <tr>\n",
       "      <th>227</th>\n",
       "      <td>10930</td>\n",
       "      <td>783930.0000</td>\n",
       "      <td>25.000</td>\n",
       "      <td>-6.224</td>\n",
       "      <td>0.0</td>\n",
       "      <td>4</td>\n",
       "      <td>3</td>\n",
       "    </tr>\n",
       "    <tr>\n",
       "      <th>156</th>\n",
       "      <td>26140</td>\n",
       "      <td>14520.0000</td>\n",
       "      <td>5.490</td>\n",
       "      <td>-3.800</td>\n",
       "      <td>1.0</td>\n",
       "      <td>3</td>\n",
       "      <td>3</td>\n",
       "    </tr>\n",
       "    <tr>\n",
       "      <th>220</th>\n",
       "      <td>23678</td>\n",
       "      <td>244290.0000</td>\n",
       "      <td>35.000</td>\n",
       "      <td>-6.270</td>\n",
       "      <td>0.0</td>\n",
       "      <td>4</td>\n",
       "      <td>3</td>\n",
       "    </tr>\n",
       "    <tr>\n",
       "      <th>152</th>\n",
       "      <td>14060</td>\n",
       "      <td>1092.0000</td>\n",
       "      <td>5.745</td>\n",
       "      <td>-2.040</td>\n",
       "      <td>1.0</td>\n",
       "      <td>3</td>\n",
       "      <td>3</td>\n",
       "    </tr>\n",
       "    <tr>\n",
       "      <th>194</th>\n",
       "      <td>3523</td>\n",
       "      <td>0.0054</td>\n",
       "      <td>0.319</td>\n",
       "      <td>12.430</td>\n",
       "      <td>5.0</td>\n",
       "      <td>1</td>\n",
       "      <td>1</td>\n",
       "    </tr>\n",
       "  </tbody>\n",
       "</table>\n",
       "</div>"
      ],
      "text/plain": [
       "     Temperature (K)  Luminosity(L/Lo)  Radius(R/Ro)  Absolute magnitude(Mv)  \\\n",
       "109            33421       352000.0000        67.000                  -5.790   \n",
       "71              3607            0.0220         0.380                  10.120   \n",
       "37              6380            1.3500         0.980                   2.930   \n",
       "74              3550            0.0040         0.291                  10.890   \n",
       "108            24345       142000.0000        57.000                  -6.240   \n",
       "227            10930       783930.0000        25.000                  -6.224   \n",
       "156            26140        14520.0000         5.490                  -3.800   \n",
       "220            23678       244290.0000        35.000                  -6.270   \n",
       "152            14060         1092.0000         5.745                  -2.040   \n",
       "194             3523            0.0054         0.319                  12.430   \n",
       "\n",
       "     Star color encoded  actual_class  predicted_class  \n",
       "109                 0.0             4                3  \n",
       "71                  5.0             1                1  \n",
       "37                  9.0             3                3  \n",
       "74                  5.0             1                1  \n",
       "108                 0.0             4                3  \n",
       "227                 0.0             4                3  \n",
       "156                 1.0             3                3  \n",
       "220                 0.0             4                3  \n",
       "152                 1.0             3                3  \n",
       "194                 5.0             1                1  "
      ]
     },
     "execution_count": 14,
     "metadata": {},
     "output_type": "execute_result"
    }
   ],
   "source": [
    "cart_loaded_model = mlflow.pyfunc.load_model(cart_model_info.model_uri)\n",
    "\n",
    "cart_predictions = cart_loaded_model.predict(X_test)\n",
    "\n",
    "cart_result = pd.DataFrame(X_test)\n",
    "cart_result[\"actual_class\"] = y_test\n",
    "cart_result[\"predicted_class\"] = cart_predictions\n",
    "\n",
    "cart_result[:10]"
   ]
  },
  {
   "cell_type": "code",
   "execution_count": null,
   "id": "1810678e-0ecb-43ee-b79e-51daa06ab9cc",
   "metadata": {},
   "outputs": [],
   "source": []
  }
 ],
 "metadata": {
  "kernelspec": {
   "display_name": "My Env (with Poetry)",
   "language": "python",
   "name": "my-env-with-poetry"
  },
  "language_info": {
   "codemirror_mode": {
    "name": "ipython",
    "version": 3
   },
   "file_extension": ".py",
   "mimetype": "text/x-python",
   "name": "python",
   "nbconvert_exporter": "python",
   "pygments_lexer": "ipython3",
   "version": "3.10.12"
  }
 },
 "nbformat": 4,
 "nbformat_minor": 5
}
