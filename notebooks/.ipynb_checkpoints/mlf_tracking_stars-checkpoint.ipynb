{
 "cells": [
  {
   "cell_type": "markdown",
   "id": "b30a59c6-8b44-46a6-90a6-f6e33500b43b",
   "metadata": {},
   "source": [
    "# Models Experiments"
   ]
  },
  {
   "cell_type": "markdown",
   "id": "77876e3f-b2e3-4d74-95ac-c88923f47aeb",
   "metadata": {},
   "source": [
    "In this notebook, we will log and track the hyperparameters and scores of multiple model runs with the help of MLFlow."
   ]
  },
  {
   "cell_type": "markdown",
   "id": "5f1fdaff-9ea1-4eba-864b-c746a992b277",
   "metadata": {},
   "source": [
    "<font color=red>Disclaimer:</font> note that this is a showcase of a MLFlow workflow. It's not the actual deployment of the models. You can run this notebook locally if you want, but you'll have to setup a local MLFlow server by following the instructions in: https://mlflow.org/docs/latest/getting-started/logging-first-model/step1-tracking-server.html."
   ]
  },
  {
   "cell_type": "markdown",
   "id": "d4459bdd-9231-4ea6-b0e2-87ad8d09d705",
   "metadata": {},
   "source": [
    "# 0 Setup "
   ]
  },
  {
   "cell_type": "markdown",
   "id": "62ba38db-f2a4-4b87-87af-1bb3d55b798f",
   "metadata": {},
   "source": [
    "## 0.1 Imports"
   ]
  },
  {
   "cell_type": "code",
   "execution_count": 1,
   "id": "1999ee92-3790-45e2-a5de-b1aa321191d2",
   "metadata": {
    "jupyter": {
     "source_hidden": true
    }
   },
   "outputs": [],
   "source": [
    "import numpy as np\n",
    "import pandas as pd\n",
    "\n",
    "# Scikit Learning libraries\n",
    "from sklearn.model_selection import train_test_split\n",
    "from sklearn.metrics import accuracy_score, precision_score, recall_score, f1_score\n",
    "from sklearn import tree\n",
    "from sklearn.ensemble import RandomForestClassifier\n",
    "from sklearn.ensemble import GradientBoostingClassifier\n",
    "\n",
    "# MLFlow\n",
    "import mlflow\n",
    "from mlflow.models import infer_signature"
   ]
  },
  {
   "cell_type": "markdown",
   "id": "ab8a9b8d-e34d-404a-8b88-dbea12b445d7",
   "metadata": {},
   "source": [
    "## 0.2 Path Definition"
   ]
  },
  {
   "cell_type": "code",
   "execution_count": 2,
   "id": "86881b4a-169d-44ae-a4fb-bc08ada1d20e",
   "metadata": {
    "jupyter": {
     "source_hidden": true
    }
   },
   "outputs": [],
   "source": [
    "HOME_PATH = '~/Documents/Data Science Projects/stars'\n",
    "INTERIM_DATA_PATH = '/data/interim/'"
   ]
  },
  {
   "cell_type": "markdown",
   "id": "f190e8e6-e81f-4119-9b41-e0139e3db882",
   "metadata": {},
   "source": [
    "## 0.3 Loading Data"
   ]
  },
  {
   "cell_type": "markdown",
   "id": "827c0d4b-bec5-4afe-b737-6c7ee3714da0",
   "metadata": {},
   "source": [
    "The 'stars' notebook must be run before loading the data here."
   ]
  },
  {
   "cell_type": "code",
   "execution_count": 3,
   "id": "76841684-20fc-4003-a151-2331e18d65e0",
   "metadata": {
    "jupyter": {
     "source_hidden": true
    }
   },
   "outputs": [],
   "source": [
    "stars_final_df = pd.read_csv(HOME_PATH + INTERIM_DATA_PATH + 'selected_features_df_final.csv', index_col = 0)\n",
    "stars_final_df[['Star type', 'Temperature (K)']] = stars_final_df[['Star type', 'Temperature (K)']].astype(float)"
   ]
  },
  {
   "cell_type": "markdown",
   "id": "f7791d31-8d25-4344-b841-f445a9528be4",
   "metadata": {},
   "source": [
    "# 1 Models"
   ]
  },
  {
   "cell_type": "markdown",
   "id": "3a452e31-79ca-47d8-86d9-1bbf3038585a",
   "metadata": {},
   "source": [
    "In this section, we setup the models that we'll track later with MLFlow."
   ]
  },
  {
   "cell_type": "code",
   "execution_count": 4,
   "id": "93ef62e8-5951-4844-b15a-c271cea02e17",
   "metadata": {
    "jupyter": {
     "source_hidden": true
    }
   },
   "outputs": [],
   "source": [
    "X = stars_final_df .drop('Star type', axis = 1)\n",
    "y = stars_final_df ['Star type']"
   ]
  },
  {
   "cell_type": "markdown",
   "id": "04a363bb-f5fe-4664-a5e1-d370ccd56c29",
   "metadata": {},
   "source": [
    "## 1.1 CART"
   ]
  },
  {
   "cell_type": "code",
   "execution_count": 5,
   "id": "d19c84ad-e096-4d74-b6b4-0ddb43c89bf8",
   "metadata": {
    "jupyter": {
     "source_hidden": true
    }
   },
   "outputs": [],
   "source": [
    "def cart_run():  \n",
    "    \n",
    "    # setting up the model. we use 4 maximum depth, with no minimum leaf size\n",
    "    cart_params = {'max_depth': 4}\n",
    "    cart_model = tree.DecisionTreeClassifier(**cart_params)\n",
    "    \n",
    "    # fitting the model to the training data\n",
    "    cart_classifier = cart_model.fit(X_train, y_train)\n",
    "    \n",
    "    # getting model predictions over the test set\n",
    "    cart_pred_labels_te = cart_model.predict(X_test)\n",
    "    \n",
    "    # model perfomance report\n",
    "    cart_accuracy = accuracy_score(y_test, cart_pred_labels_te)\n",
    "    cart_precision = precision_score(y_test, cart_pred_labels_te, average = 'weighted', zero_division = 0)\n",
    "    cart_recall = recall_score(y_test, cart_pred_labels_te, average = 'weighted', zero_division = 0)\n",
    "    cart_f1 = f1_score(y_test, cart_pred_labels_te, average = 'weighted', zero_division = 0)\n",
    "    \n",
    "    cart_metrics = {\"accuracy\": cart_accuracy,\n",
    "                   \"precision\": cart_precision,\n",
    "                   \"recall\": cart_recall,\n",
    "                   \"f1\": cart_f1}\n",
    "\n",
    "    return cart_model, cart_params, cart_metrics"
   ]
  },
  {
   "cell_type": "markdown",
   "id": "0cce1702-87f1-4606-af32-29b45a3d23eb",
   "metadata": {},
   "source": [
    "# 2 Model Logging and Tracking"
   ]
  },
  {
   "cell_type": "code",
   "execution_count": 6,
   "id": "42b6392c-ab53-42ee-a6f0-a0dc21af8118",
   "metadata": {
    "jupyter": {
     "source_hidden": true
    }
   },
   "outputs": [],
   "source": [
    "# setting client and global server reference\n",
    "\n",
    "client = mlflow.MlflowClient(tracking_uri=\"http://127.0.0.1:8080\")\n",
    "mlflow.set_tracking_uri(uri=\"http://127.0.0.1:8080\")"
   ]
  },
  {
   "cell_type": "markdown",
   "id": "599e8900-d9cb-4791-be31-205557c372ee",
   "metadata": {},
   "source": [
    "First, we will set and create the experiment for our dataset. Currently, the below cell is marked as raw (it doesn't have to run after first time). If you are running this notebook for the first time, set it as a code cell."
   ]
  },
  {
   "cell_type": "raw",
   "id": "67e0f208-03ad-4ae5-b0b0-118ebf45906a",
   "metadata": {
    "jupyter": {
     "source_hidden": true
    }
   },
   "source": [
    "# remember to turn it raw/code depending on your case\n",
    "\n",
    "experiment_description = (\n",
    "    \"A star type prediction experiment. \"\n",
    "    \"This experiment contains three models for this task. \"\n",
    "    \"It uses a public dataset, available on Kaggle, and it's made for learning purposes\"\n",
    ")\n",
    "\n",
    "experiment_tags = {\n",
    "    \"project_name\": \"star-type-prediction\",\n",
    "    \"made by\": \"andrey\",\n",
    "    \"mlflow.note.content\": experiment_description,\n",
    "}\n",
    "\n",
    "star_type_experiment = client.create_experiment(\n",
    "    name=\"Star_Type_Models\", tags=experiment_tags\n",
    ")"
   ]
  },
  {
   "cell_type": "markdown",
   "id": "da251381-59ad-43ac-a037-c18ded242835",
   "metadata": {},
   "source": [
    "## 2.1 CART"
   ]
  },
  {
   "cell_type": "code",
   "execution_count": 7,
   "id": "6ed66bff-06f6-40bc-8376-5ef5561ec672",
   "metadata": {
    "jupyter": {
     "source_hidden": true
    }
   },
   "outputs": [],
   "source": [
    "# set the current experiment and return metadata\n",
    "star_type_experiment = mlflow.set_experiment(\"Star_Type_Models\")\n",
    "\n",
    "# set the name of the current run\n",
    "run_name = \"cart_stars_test\"\n",
    "\n",
    "# set the artefacts path\n",
    "artifact_path = \"cart_stars\""
   ]
  },
  {
   "cell_type": "code",
   "execution_count": 8,
   "id": "1fdede41-b831-4dc9-9e14-54f664e79a2b",
   "metadata": {
    "jupyter": {
     "source_hidden": true
    }
   },
   "outputs": [],
   "source": [
    "# setting the training split\n",
    "X_train, X_test, y_train, y_test = train_test_split(X, y, test_size = 0.25, random_state = 0)\n",
    "\n",
    "# run the experiment\n",
    "cart_model, cart_params, cart_metrics = cart_run()\n",
    "\n",
    "# Initiate the MLflow run context\n",
    "with mlflow.start_run(run_name = run_name) as run:\n",
    "    # log the parameters used for the model fit\n",
    "    mlflow.log_params(cart_params)\n",
    "\n",
    "    # log the error metrics that were calculated during validation\n",
    "    mlflow.log_metrics(cart_metrics)\n",
    "\n",
    "    # log an instance of the trained model for later use\n",
    "    cart_model_info = mlflow.sklearn.log_model(\n",
    "        sk_model=cart_model, input_example=X_test, artifact_path=artifact_path\n",
    "    )"
   ]
  },
  {
   "cell_type": "markdown",
   "id": "474c7041-152e-4f10-a97d-d70b1572625e",
   "metadata": {},
   "source": [
    "### 2.1.1 Loading Model and Making Predictions"
   ]
  },
  {
   "cell_type": "markdown",
   "id": "68298567-8acf-4cce-b5cc-0518bfcf2916",
   "metadata": {},
   "source": [
    "As the title suggests, here we load the just trained model, and use it to make predictions on our dataset. The actual and predicted classes are shown in their respective columns."
   ]
  },
  {
   "cell_type": "code",
   "execution_count": 14,
   "id": "ad0b4411-f981-49ff-933d-bfd5469ffce5",
   "metadata": {
    "jupyter": {
     "source_hidden": true
    }
   },
   "outputs": [
    {
     "name": "stderr",
     "output_type": "stream",
     "text": [
      "Downloading artifacts: 100%|████████████████████████████████████████████████████████████████████████████████████████████████████████████████████████████████████████████████████████| 6/6 [00:00<00:00, 264.53it/s]\n"
     ]
    },
    {
     "data": {
      "text/html": [
       "<div>\n",
       "<style scoped>\n",
       "    .dataframe tbody tr th:only-of-type {\n",
       "        vertical-align: middle;\n",
       "    }\n",
       "\n",
       "    .dataframe tbody tr th {\n",
       "        vertical-align: top;\n",
       "    }\n",
       "\n",
       "    .dataframe thead th {\n",
       "        text-align: right;\n",
       "    }\n",
       "</style>\n",
       "<table border=\"1\" class=\"dataframe\">\n",
       "  <thead>\n",
       "    <tr style=\"text-align: right;\">\n",
       "      <th></th>\n",
       "      <th>Temperature (K)</th>\n",
       "      <th>Luminosity(L/Lo)</th>\n",
       "      <th>Radius(R/Ro)</th>\n",
       "      <th>Absolute magnitude(Mv)</th>\n",
       "      <th>Star color encoded</th>\n",
       "      <th>actual_class</th>\n",
       "      <th>predicted_class</th>\n",
       "    </tr>\n",
       "  </thead>\n",
       "  <tbody>\n",
       "    <tr>\n",
       "      <th>109</th>\n",
       "      <td>33421.0</td>\n",
       "      <td>352000.0000</td>\n",
       "      <td>67.000</td>\n",
       "      <td>-5.790</td>\n",
       "      <td>0.0</td>\n",
       "      <td>4.0</td>\n",
       "      <td>3.0</td>\n",
       "    </tr>\n",
       "    <tr>\n",
       "      <th>71</th>\n",
       "      <td>3607.0</td>\n",
       "      <td>0.0220</td>\n",
       "      <td>0.380</td>\n",
       "      <td>10.120</td>\n",
       "      <td>5.0</td>\n",
       "      <td>1.0</td>\n",
       "      <td>1.0</td>\n",
       "    </tr>\n",
       "    <tr>\n",
       "      <th>37</th>\n",
       "      <td>6380.0</td>\n",
       "      <td>1.3500</td>\n",
       "      <td>0.980</td>\n",
       "      <td>2.930</td>\n",
       "      <td>9.0</td>\n",
       "      <td>3.0</td>\n",
       "      <td>3.0</td>\n",
       "    </tr>\n",
       "    <tr>\n",
       "      <th>74</th>\n",
       "      <td>3550.0</td>\n",
       "      <td>0.0040</td>\n",
       "      <td>0.291</td>\n",
       "      <td>10.890</td>\n",
       "      <td>5.0</td>\n",
       "      <td>1.0</td>\n",
       "      <td>1.0</td>\n",
       "    </tr>\n",
       "    <tr>\n",
       "      <th>108</th>\n",
       "      <td>24345.0</td>\n",
       "      <td>142000.0000</td>\n",
       "      <td>57.000</td>\n",
       "      <td>-6.240</td>\n",
       "      <td>0.0</td>\n",
       "      <td>4.0</td>\n",
       "      <td>3.0</td>\n",
       "    </tr>\n",
       "    <tr>\n",
       "      <th>227</th>\n",
       "      <td>10930.0</td>\n",
       "      <td>783930.0000</td>\n",
       "      <td>25.000</td>\n",
       "      <td>-6.224</td>\n",
       "      <td>0.0</td>\n",
       "      <td>4.0</td>\n",
       "      <td>3.0</td>\n",
       "    </tr>\n",
       "    <tr>\n",
       "      <th>156</th>\n",
       "      <td>26140.0</td>\n",
       "      <td>14520.0000</td>\n",
       "      <td>5.490</td>\n",
       "      <td>-3.800</td>\n",
       "      <td>1.0</td>\n",
       "      <td>3.0</td>\n",
       "      <td>3.0</td>\n",
       "    </tr>\n",
       "    <tr>\n",
       "      <th>220</th>\n",
       "      <td>23678.0</td>\n",
       "      <td>244290.0000</td>\n",
       "      <td>35.000</td>\n",
       "      <td>-6.270</td>\n",
       "      <td>0.0</td>\n",
       "      <td>4.0</td>\n",
       "      <td>3.0</td>\n",
       "    </tr>\n",
       "    <tr>\n",
       "      <th>152</th>\n",
       "      <td>14060.0</td>\n",
       "      <td>1092.0000</td>\n",
       "      <td>5.745</td>\n",
       "      <td>-2.040</td>\n",
       "      <td>1.0</td>\n",
       "      <td>3.0</td>\n",
       "      <td>3.0</td>\n",
       "    </tr>\n",
       "    <tr>\n",
       "      <th>194</th>\n",
       "      <td>3523.0</td>\n",
       "      <td>0.0054</td>\n",
       "      <td>0.319</td>\n",
       "      <td>12.430</td>\n",
       "      <td>5.0</td>\n",
       "      <td>1.0</td>\n",
       "      <td>1.0</td>\n",
       "    </tr>\n",
       "  </tbody>\n",
       "</table>\n",
       "</div>"
      ],
      "text/plain": [
       "     Temperature (K)  Luminosity(L/Lo)  Radius(R/Ro)  Absolute magnitude(Mv)  \\\n",
       "109          33421.0       352000.0000        67.000                  -5.790   \n",
       "71            3607.0            0.0220         0.380                  10.120   \n",
       "37            6380.0            1.3500         0.980                   2.930   \n",
       "74            3550.0            0.0040         0.291                  10.890   \n",
       "108          24345.0       142000.0000        57.000                  -6.240   \n",
       "227          10930.0       783930.0000        25.000                  -6.224   \n",
       "156          26140.0        14520.0000         5.490                  -3.800   \n",
       "220          23678.0       244290.0000        35.000                  -6.270   \n",
       "152          14060.0         1092.0000         5.745                  -2.040   \n",
       "194           3523.0            0.0054         0.319                  12.430   \n",
       "\n",
       "     Star color encoded  actual_class  predicted_class  \n",
       "109                 0.0           4.0              3.0  \n",
       "71                  5.0           1.0              1.0  \n",
       "37                  9.0           3.0              3.0  \n",
       "74                  5.0           1.0              1.0  \n",
       "108                 0.0           4.0              3.0  \n",
       "227                 0.0           4.0              3.0  \n",
       "156                 1.0           3.0              3.0  \n",
       "220                 0.0           4.0              3.0  \n",
       "152                 1.0           3.0              3.0  \n",
       "194                 5.0           1.0              1.0  "
      ]
     },
     "execution_count": 14,
     "metadata": {},
     "output_type": "execute_result"
    }
   ],
   "source": [
    "# loading the just trained model\n",
    "cart_loaded_model = mlflow.pyfunc.load_model(cart_model_info.model_uri)\n",
    "\n",
    "# using it to make predictions on the test set\n",
    "cart_predictions = cart_loaded_model.predict(X_test)\n",
    "\n",
    "# setting the test df\n",
    "cart_result = pd.DataFrame(X_test)\n",
    "cart_result[\"actual_class\"] = y_test\n",
    "cart_result[\"predicted_class\"] = cart_predictions\n",
    "\n",
    "# showcasing the first n=10 rows of the test df. change the number of rows at will.\n",
    "cart_result[:10]"
   ]
  },
  {
   "cell_type": "markdown",
   "id": "ad6d9901-f7ac-4efa-af40-e62e120a1a43",
   "metadata": {},
   "source": [
    "## 2.2 Random Forest"
   ]
  }
 ],
 "metadata": {
  "kernelspec": {
   "display_name": "My Env (with Poetry)",
   "language": "python",
   "name": "my-env-with-poetry"
  },
  "language_info": {
   "codemirror_mode": {
    "name": "ipython",
    "version": 3
   },
   "file_extension": ".py",
   "mimetype": "text/x-python",
   "name": "python",
   "nbconvert_exporter": "python",
   "pygments_lexer": "ipython3",
   "version": "3.10.12"
  }
 },
 "nbformat": 4,
 "nbformat_minor": 5
}
